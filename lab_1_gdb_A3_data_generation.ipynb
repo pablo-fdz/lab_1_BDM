{
 "cells": [
  {
   "cell_type": "markdown",
   "metadata": {},
   "source": [
    "In this notebook we create the data for filling in the 3 new properties created in A3:\n",
    "\n",
    "- Two edge properties in the `REVIEWED` edge: *description*, a short text where the author justifies her review, and *suggested_acceptance*, which here is assumed to be either true or false depending on the support of an author for a particular paper.\n",
    "- In the `Author` node, a node property which should contain the organization an author is affiliated to, *affiliation*.\n",
    "\n",
    "Note that the number of instances with those properties must match the number of instances of the `REVIEWED` edge and of the `Author` nodes, respectively."
   ]
  },
  {
   "cell_type": "markdown",
   "metadata": {},
   "source": [
    "# 0. Libraries"
   ]
  },
  {
   "cell_type": "code",
   "execution_count": 65,
   "metadata": {},
   "outputs": [],
   "source": [
    "import csv\n",
    "import random\n",
    "from faker import Faker\n",
    "from datetime import datetime, timedelta\n",
    "import os\n",
    "import pandas as pd"
   ]
  },
  {
   "cell_type": "code",
   "execution_count": 66,
   "metadata": {},
   "outputs": [
    {
     "name": "stdout",
     "output_type": "stream",
     "text": [
      "Directory 'data_lab1' already exists\n"
     ]
    }
   ],
   "source": [
    "directory = \"data_lab1\"\n",
    "\n",
    "# Create directory for saving the data if it doesn't exist\n",
    "if not os.path.exists(directory):\n",
    "    os.makedirs(directory)\n",
    "    print(f\"Directory '{directory}' created successfully\")\n",
    "else:\n",
    "    print(f\"Directory '{directory}' already exists\")"
   ]
  },
  {
   "cell_type": "markdown",
   "metadata": {},
   "source": [
    "# 1. Adjustable parameters"
   ]
  },
  {
   "cell_type": "markdown",
   "metadata": {},
   "source": [
    "Below we include some sample topics and words for creating fake data."
   ]
  },
  {
   "cell_type": "code",
   "execution_count": 67,
   "metadata": {},
   "outputs": [],
   "source": [
    "topics = [\n",
    "    \"This paper explores the impact of machine learning algorithms on data analysis efficiency.\",\n",
    "    \"We present a novel approach for optimizing graph database queries.\",\n",
    "    \"This study analyzes the effects of large-scale distributed systems in cloud computing.\",\n",
    "    \"In this work, we investigate the security challenges in IoT networks.\",\n",
    "    \"This paper proposes a new model for natural language processing tasks.\",\n",
    "    \"The research examines the evolution of data privacy regulations worldwide.\",\n",
    "    \"An empirical study on the performance of blockchain technologies.\",\n",
    "    \"We provide a comparative analysis of various AI optimization techniques.\",\n",
    "    \"This study evaluates the scalability of real-time recommendation systems.\",\n",
    "    \"A new framework for cybersecurity threat detection is introduced.\"\n",
    "]\n",
    "\n",
    "# Components to generate unique titles\n",
    "adjectives = [\"Efficient\", \"Scalable\", \"Robust\", \"Secure\", \"Advanced\", \"Distributed\", \"Optimized\", \"Flexible\"]\n",
    "nouns = [\"Framework\", \"Model\", \"Approach\", \"Architecture\", \"Method\", \"Algorithm\", \"Technique\", \"System\"]\n",
    "fields = [\n",
    "    \"Machine Learning\",\n",
    "    \"Blockchain\",\n",
    "    \"Cybersecurity\",\n",
    "    \"Natural Language Processing\",\n",
    "    \"Quantum Computing\",\n",
    "    \"Data Privacy\",\n",
    "    \"Graph Databases\",\n",
    "    \"Cloud Computing\",\n",
    "    \"Healthcare AI\",\n",
    "    \"IoT Networks\",\n",
    "]\n",
    "\n",
    "# Helper function to generate a unique title\n",
    "def generate_unique_title(existing_titles):\n",
    "    while True:\n",
    "        title = f\"{random.choice(adjectives)} {random.choice(nouns)} for {random.choice(fields)}\"\n",
    "        if title not in existing_titles:\n",
    "            existing_titles.add(title)\n",
    "            return title\n",
    "\n",
    "existing_titles = set()"
   ]
  },
  {
   "cell_type": "code",
   "execution_count": 68,
   "metadata": {},
   "outputs": [
    {
     "name": "stdout",
     "output_type": "stream",
     "text": [
      "Review 1: The manuscript explores a theoretical model for quantum computing. Some claims are not adequately substantiated. ('The paper fails to make a significant contribution.', False)\n",
      "Review 2: This paper presents an in-depth review of machine learning techniques. Results are promising but require further validation. ('The paper fails to make a significant contribution.', False)\n",
      "Review 3: This paper presents a theoretical model for quantum computing. The approach lacks sufficient experimental support. ('I recommend acceptance after minor revisions.', True)\n",
      "Review 4: The authors propose a theoretical model for quantum computing. The methodology is sound and well-explained. ('Consider for a poster presentation.', True)\n",
      "Review 5: The manuscript explores a theoretical model for quantum computing. The methodology is sound and well-explained. ('Accept with enthusiasm.', True)\n"
     ]
    }
   ],
   "source": [
    "# Define components of the review descriptions\n",
    "openings = [\n",
    "    \"This paper presents\",\n",
    "    \"The authors propose\",\n",
    "    \"An innovative approach is introduced in\",\n",
    "    \"A comprehensive study is conducted on\",\n",
    "    \"The manuscript explores\"\n",
    "]\n",
    "\n",
    "topics = [\n",
    "    \"a novel method for data analysis\",\n",
    "    \"an in-depth review of machine learning techniques\",\n",
    "    \"a new framework for natural language processing\",\n",
    "    \"an experimental evaluation of neural networks\",\n",
    "    \"a theoretical model for quantum computing\"\n",
    "]\n",
    "\n",
    "evaluations = [\n",
    "    \"The methodology is sound and well-explained.\",\n",
    "    \"Results are promising but require further validation.\",\n",
    "    \"The approach lacks sufficient experimental support.\",\n",
    "    \"The paper is well-structured and easy to follow.\",\n",
    "    \"Some claims are not adequately substantiated.\"\n",
    "]\n",
    "\n",
    "# Define recommendation phrases with associated acceptance status\n",
    "recommendations = [\n",
    "    (\"I recommend acceptance after minor revisions.\", True),\n",
    "    (\"Major revisions are necessary before acceptance.\", True),\n",
    "    (\"The paper should be rejected due to insufficient contributions.\", False),\n",
    "    (\"Accept with enthusiasm.\", True),\n",
    "    (\"Consider for a poster presentation.\", True),\n",
    "    (\"The methodology is flawed and lacks rigor.\", False),\n",
    "    (\"The results do not support the conclusions drawn.\", False),\n",
    "    (\"The paper fails to make a significant contribution.\", False)\n",
    "]\n",
    "\n",
    "# Generate a list of random review descriptions\n",
    "reviews = []\n",
    "for _ in range(5):\n",
    "    review = f\"{random.choice(openings)} {random.choice(topics)}. {random.choice(evaluations)} {random.choice(recommendations)}\"\n",
    "    reviews.append(review)\n",
    "\n",
    "# Output the list of reviews\n",
    "for idx, review in enumerate(reviews, 1):\n",
    "    print(f\"Review {idx}: {review}\")\n"
   ]
  },
  {
   "cell_type": "markdown",
   "metadata": {},
   "source": [
    "# 2. Loading the fake data of the `REVIEWED` edges and `Author` nodes"
   ]
  },
  {
   "cell_type": "code",
   "execution_count": 69,
   "metadata": {},
   "outputs": [],
   "source": [
    "reviewed = pd.read_csv('data_lab1/reviewed.csv')\n",
    "author = pd.read_csv('data_lab1/authors.csv')"
   ]
  },
  {
   "cell_type": "code",
   "execution_count": 70,
   "metadata": {},
   "outputs": [
    {
     "data": {
      "text/html": [
       "<div>\n",
       "<style scoped>\n",
       "    .dataframe tbody tr th:only-of-type {\n",
       "        vertical-align: middle;\n",
       "    }\n",
       "\n",
       "    .dataframe tbody tr th {\n",
       "        vertical-align: top;\n",
       "    }\n",
       "\n",
       "    .dataframe thead th {\n",
       "        text-align: right;\n",
       "    }\n",
       "</style>\n",
       "<table border=\"1\" class=\"dataframe\">\n",
       "  <thead>\n",
       "    <tr style=\"text-align: right;\">\n",
       "      <th></th>\n",
       "      <th>author_id</th>\n",
       "      <th>paper_id</th>\n",
       "      <th>review_date</th>\n",
       "    </tr>\n",
       "  </thead>\n",
       "  <tbody>\n",
       "    <tr>\n",
       "      <th>0</th>\n",
       "      <td>44</td>\n",
       "      <td>1</td>\n",
       "      <td>2024-09-20</td>\n",
       "    </tr>\n",
       "    <tr>\n",
       "      <th>1</th>\n",
       "      <td>46</td>\n",
       "      <td>1</td>\n",
       "      <td>2024-05-22</td>\n",
       "    </tr>\n",
       "    <tr>\n",
       "      <th>2</th>\n",
       "      <td>26</td>\n",
       "      <td>1</td>\n",
       "      <td>2024-11-04</td>\n",
       "    </tr>\n",
       "    <tr>\n",
       "      <th>3</th>\n",
       "      <td>49</td>\n",
       "      <td>1</td>\n",
       "      <td>2024-06-16</td>\n",
       "    </tr>\n",
       "    <tr>\n",
       "      <th>4</th>\n",
       "      <td>12</td>\n",
       "      <td>1</td>\n",
       "      <td>2024-06-10</td>\n",
       "    </tr>\n",
       "  </tbody>\n",
       "</table>\n",
       "</div>"
      ],
      "text/plain": [
       "   author_id  paper_id review_date\n",
       "0         44         1  2024-09-20\n",
       "1         46         1  2024-05-22\n",
       "2         26         1  2024-11-04\n",
       "3         49         1  2024-06-16\n",
       "4         12         1  2024-06-10"
      ]
     },
     "execution_count": 70,
     "metadata": {},
     "output_type": "execute_result"
    }
   ],
   "source": [
    "reviewed.head()"
   ]
  },
  {
   "cell_type": "code",
   "execution_count": 71,
   "metadata": {},
   "outputs": [
    {
     "data": {
      "text/html": [
       "<div>\n",
       "<style scoped>\n",
       "    .dataframe tbody tr th:only-of-type {\n",
       "        vertical-align: middle;\n",
       "    }\n",
       "\n",
       "    .dataframe tbody tr th {\n",
       "        vertical-align: top;\n",
       "    }\n",
       "\n",
       "    .dataframe thead th {\n",
       "        text-align: right;\n",
       "    }\n",
       "</style>\n",
       "<table border=\"1\" class=\"dataframe\">\n",
       "  <thead>\n",
       "    <tr style=\"text-align: right;\">\n",
       "      <th></th>\n",
       "      <th>id</th>\n",
       "      <th>name</th>\n",
       "    </tr>\n",
       "  </thead>\n",
       "  <tbody>\n",
       "    <tr>\n",
       "      <th>0</th>\n",
       "      <td>1</td>\n",
       "      <td>Shannon Martinez</td>\n",
       "    </tr>\n",
       "    <tr>\n",
       "      <th>1</th>\n",
       "      <td>2</td>\n",
       "      <td>Olivia Jones</td>\n",
       "    </tr>\n",
       "    <tr>\n",
       "      <th>2</th>\n",
       "      <td>3</td>\n",
       "      <td>Michael Baker</td>\n",
       "    </tr>\n",
       "    <tr>\n",
       "      <th>3</th>\n",
       "      <td>4</td>\n",
       "      <td>Patrick Curtis</td>\n",
       "    </tr>\n",
       "    <tr>\n",
       "      <th>4</th>\n",
       "      <td>5</td>\n",
       "      <td>Tanya Riley</td>\n",
       "    </tr>\n",
       "  </tbody>\n",
       "</table>\n",
       "</div>"
      ],
      "text/plain": [
       "   id              name\n",
       "0   1  Shannon Martinez\n",
       "1   2      Olivia Jones\n",
       "2   3     Michael Baker\n",
       "3   4    Patrick Curtis\n",
       "4   5       Tanya Riley"
      ]
     },
     "execution_count": 71,
     "metadata": {},
     "output_type": "execute_result"
    }
   ],
   "source": [
    "author.head()"
   ]
  },
  {
   "cell_type": "markdown",
   "metadata": {},
   "source": [
    "For ensuring uniqueness, we only need:\n",
    "- From the `Author` node, the `id`.\n",
    "- From the `REVIEWED` edge, the `author_id` and the `paper_id`."
   ]
  },
  {
   "cell_type": "code",
   "execution_count": 72,
   "metadata": {},
   "outputs": [],
   "source": [
    "reviewed = reviewed.iloc[:, :2]\n",
    "author = author.iloc[:, :1]\n",
    "author = author.rename(columns={'id': 'author_id'})"
   ]
  },
  {
   "cell_type": "markdown",
   "metadata": {},
   "source": [
    "# 3. Creating the data (the `.csv`)"
   ]
  },
  {
   "cell_type": "markdown",
   "metadata": {},
   "source": [
    "## 3.1. `Author` node: adding the affiliation"
   ]
  },
  {
   "cell_type": "code",
   "execution_count": 73,
   "metadata": {},
   "outputs": [
    {
     "data": {
      "text/html": [
       "<div>\n",
       "<style scoped>\n",
       "    .dataframe tbody tr th:only-of-type {\n",
       "        vertical-align: middle;\n",
       "    }\n",
       "\n",
       "    .dataframe tbody tr th {\n",
       "        vertical-align: top;\n",
       "    }\n",
       "\n",
       "    .dataframe thead th {\n",
       "        text-align: right;\n",
       "    }\n",
       "</style>\n",
       "<table border=\"1\" class=\"dataframe\">\n",
       "  <thead>\n",
       "    <tr style=\"text-align: right;\">\n",
       "      <th></th>\n",
       "      <th>author_id</th>\n",
       "      <th>affiliation</th>\n",
       "    </tr>\n",
       "  </thead>\n",
       "  <tbody>\n",
       "    <tr>\n",
       "      <th>0</th>\n",
       "      <td>1</td>\n",
       "      <td>Morrison, Casey and Parrish</td>\n",
       "    </tr>\n",
       "    <tr>\n",
       "      <th>1</th>\n",
       "      <td>2</td>\n",
       "      <td>Bailey Group</td>\n",
       "    </tr>\n",
       "    <tr>\n",
       "      <th>2</th>\n",
       "      <td>3</td>\n",
       "      <td>Flores-Wright</td>\n",
       "    </tr>\n",
       "    <tr>\n",
       "      <th>3</th>\n",
       "      <td>4</td>\n",
       "      <td>Anderson-Robinson</td>\n",
       "    </tr>\n",
       "    <tr>\n",
       "      <th>4</th>\n",
       "      <td>5</td>\n",
       "      <td>Russo LLC</td>\n",
       "    </tr>\n",
       "  </tbody>\n",
       "</table>\n",
       "</div>"
      ],
      "text/plain": [
       "   author_id                  affiliation\n",
       "0          1  Morrison, Casey and Parrish\n",
       "1          2                 Bailey Group\n",
       "2          3                Flores-Wright\n",
       "3          4            Anderson-Robinson\n",
       "4          5                    Russo LLC"
      ]
     },
     "execution_count": 73,
     "metadata": {},
     "output_type": "execute_result"
    }
   ],
   "source": [
    "# Create fake company data for each author id\n",
    "fake = Faker()\n",
    "for i in range(len(author)):\n",
    "    author.at[i, 'affiliation'] = fake.company()\n",
    "\n",
    "# Display the head of the data frame with the new attribute\n",
    "author.head()"
   ]
  },
  {
   "cell_type": "markdown",
   "metadata": {},
   "source": [
    "## 3.2. `REVIEWED` edges: adding a description and a suggested acceptance"
   ]
  },
  {
   "cell_type": "code",
   "execution_count": 74,
   "metadata": {},
   "outputs": [],
   "source": [
    "def generate_reviews(num_reviews, acceptance_rate):\n",
    "    num_accept = int(num_reviews * acceptance_rate)\n",
    "    num_reject = num_reviews - num_accept\n",
    "\n",
    "    # Separate recommendations based on acceptance status\n",
    "    accept_recommendations = [rec for rec in recommendations if rec[1]]\n",
    "    reject_recommendations = [rec for rec in recommendations if not rec[1]]\n",
    "\n",
    "    reviews = []\n",
    "\n",
    "    # Generate accepted reviews\n",
    "    for _ in range(num_accept):\n",
    "        opening = random.choice(openings)\n",
    "        topic = random.choice(topics)\n",
    "        evaluation = random.choice(evaluations)\n",
    "        recommendation = random.choice(accept_recommendations)[0]\n",
    "        review_text = f\"{opening} {topic}. {evaluation} {recommendation}\"\n",
    "        reviews.append({'description': review_text, 'suggested_acceptance': True})\n",
    "\n",
    "    # Generate rejected reviews\n",
    "    for _ in range(num_reject):\n",
    "        opening = random.choice(openings)\n",
    "        topic = random.choice(topics)\n",
    "        evaluation = random.choice(evaluations)\n",
    "        recommendation = random.choice(reject_recommendations)[0]\n",
    "        review_text = f\"{opening} {topic}. {evaluation} {recommendation}\"\n",
    "        reviews.append({'description': review_text, 'suggested_acceptance': False})\n",
    "\n",
    "    # Shuffle the reviews to randomize order\n",
    "    random.shuffle(reviews)\n",
    "\n",
    "    return reviews"
   ]
  },
  {
   "cell_type": "code",
   "execution_count": 75,
   "metadata": {},
   "outputs": [
    {
     "data": {
      "text/html": [
       "<div>\n",
       "<style scoped>\n",
       "    .dataframe tbody tr th:only-of-type {\n",
       "        vertical-align: middle;\n",
       "    }\n",
       "\n",
       "    .dataframe tbody tr th {\n",
       "        vertical-align: top;\n",
       "    }\n",
       "\n",
       "    .dataframe thead th {\n",
       "        text-align: right;\n",
       "    }\n",
       "</style>\n",
       "<table border=\"1\" class=\"dataframe\">\n",
       "  <thead>\n",
       "    <tr style=\"text-align: right;\">\n",
       "      <th></th>\n",
       "      <th>description</th>\n",
       "      <th>suggested_acceptance</th>\n",
       "    </tr>\n",
       "  </thead>\n",
       "  <tbody>\n",
       "    <tr>\n",
       "      <th>0</th>\n",
       "      <td>An innovative approach is introduced in a new ...</td>\n",
       "      <td>False</td>\n",
       "    </tr>\n",
       "    <tr>\n",
       "      <th>1</th>\n",
       "      <td>An innovative approach is introduced in a nove...</td>\n",
       "      <td>True</td>\n",
       "    </tr>\n",
       "    <tr>\n",
       "      <th>2</th>\n",
       "      <td>The authors propose a new framework for natura...</td>\n",
       "      <td>True</td>\n",
       "    </tr>\n",
       "    <tr>\n",
       "      <th>3</th>\n",
       "      <td>The authors propose an experimental evaluation...</td>\n",
       "      <td>False</td>\n",
       "    </tr>\n",
       "    <tr>\n",
       "      <th>4</th>\n",
       "      <td>A comprehensive study is conducted on an exper...</td>\n",
       "      <td>True</td>\n",
       "    </tr>\n",
       "  </tbody>\n",
       "</table>\n",
       "</div>"
      ],
      "text/plain": [
       "                                         description  suggested_acceptance\n",
       "0  An innovative approach is introduced in a new ...                 False\n",
       "1  An innovative approach is introduced in a nove...                  True\n",
       "2  The authors propose a new framework for natura...                  True\n",
       "3  The authors propose an experimental evaluation...                 False\n",
       "4  A comprehensive study is conducted on an exper...                  True"
      ]
     },
     "execution_count": 75,
     "metadata": {},
     "output_type": "execute_result"
    }
   ],
   "source": [
    "# Example usage\n",
    "num_reviews = len(reviewed)  # Number of reviews to generate\n",
    "acceptance_rate = 0.7  # 70% acceptance rate of all of the reviews\n",
    "sample_reviews = generate_reviews(num_reviews, acceptance_rate)\n",
    "\n",
    "# Create a pandas DataFrame\n",
    "reviewed_properties = pd.DataFrame(sample_reviews)\n",
    "\n",
    "# Display the first few rows of the DataFrame\n",
    "reviewed_properties.head()"
   ]
  },
  {
   "cell_type": "code",
   "execution_count": 76,
   "metadata": {},
   "outputs": [],
   "source": [
    "# Append the review properties to the existing DataFrame\n",
    "reviewed = pd.concat([reviewed, reviewed_properties], axis=1)"
   ]
  },
  {
   "cell_type": "code",
   "execution_count": 77,
   "metadata": {},
   "outputs": [
    {
     "data": {
      "text/html": [
       "<div>\n",
       "<style scoped>\n",
       "    .dataframe tbody tr th:only-of-type {\n",
       "        vertical-align: middle;\n",
       "    }\n",
       "\n",
       "    .dataframe tbody tr th {\n",
       "        vertical-align: top;\n",
       "    }\n",
       "\n",
       "    .dataframe thead th {\n",
       "        text-align: right;\n",
       "    }\n",
       "</style>\n",
       "<table border=\"1\" class=\"dataframe\">\n",
       "  <thead>\n",
       "    <tr style=\"text-align: right;\">\n",
       "      <th></th>\n",
       "      <th>author_id</th>\n",
       "      <th>paper_id</th>\n",
       "      <th>description</th>\n",
       "      <th>suggested_acceptance</th>\n",
       "    </tr>\n",
       "  </thead>\n",
       "  <tbody>\n",
       "    <tr>\n",
       "      <th>0</th>\n",
       "      <td>44</td>\n",
       "      <td>1</td>\n",
       "      <td>An innovative approach is introduced in a new ...</td>\n",
       "      <td>False</td>\n",
       "    </tr>\n",
       "    <tr>\n",
       "      <th>1</th>\n",
       "      <td>46</td>\n",
       "      <td>1</td>\n",
       "      <td>An innovative approach is introduced in a nove...</td>\n",
       "      <td>True</td>\n",
       "    </tr>\n",
       "    <tr>\n",
       "      <th>2</th>\n",
       "      <td>26</td>\n",
       "      <td>1</td>\n",
       "      <td>The authors propose a new framework for natura...</td>\n",
       "      <td>True</td>\n",
       "    </tr>\n",
       "    <tr>\n",
       "      <th>3</th>\n",
       "      <td>49</td>\n",
       "      <td>1</td>\n",
       "      <td>The authors propose an experimental evaluation...</td>\n",
       "      <td>False</td>\n",
       "    </tr>\n",
       "    <tr>\n",
       "      <th>4</th>\n",
       "      <td>12</td>\n",
       "      <td>1</td>\n",
       "      <td>A comprehensive study is conducted on an exper...</td>\n",
       "      <td>True</td>\n",
       "    </tr>\n",
       "  </tbody>\n",
       "</table>\n",
       "</div>"
      ],
      "text/plain": [
       "   author_id  paper_id                                        description  \\\n",
       "0         44         1  An innovative approach is introduced in a new ...   \n",
       "1         46         1  An innovative approach is introduced in a nove...   \n",
       "2         26         1  The authors propose a new framework for natura...   \n",
       "3         49         1  The authors propose an experimental evaluation...   \n",
       "4         12         1  A comprehensive study is conducted on an exper...   \n",
       "\n",
       "   suggested_acceptance  \n",
       "0                 False  \n",
       "1                  True  \n",
       "2                  True  \n",
       "3                 False  \n",
       "4                  True  "
      ]
     },
     "execution_count": 77,
     "metadata": {},
     "output_type": "execute_result"
    }
   ],
   "source": [
    "reviewed.head()"
   ]
  },
  {
   "cell_type": "markdown",
   "metadata": {},
   "source": [
    "# 4. Saving the data frame"
   ]
  },
  {
   "cell_type": "code",
   "execution_count": 78,
   "metadata": {},
   "outputs": [],
   "source": [
    "author.to_csv('data_lab1/authors_additional_properties.csv', index=False)\n",
    "reviewed.to_csv('data_lab1/reviewed_additional_properties.csv', index=False)"
   ]
  }
 ],
 "metadata": {
  "kernelspec": {
   "display_name": "bigdata",
   "language": "python",
   "name": "python3"
  },
  "language_info": {
   "codemirror_mode": {
    "name": "ipython",
    "version": 3
   },
   "file_extension": ".py",
   "mimetype": "text/x-python",
   "name": "python",
   "nbconvert_exporter": "python",
   "pygments_lexer": "ipython3",
   "version": "3.12.0"
  }
 },
 "nbformat": 4,
 "nbformat_minor": 2
}
